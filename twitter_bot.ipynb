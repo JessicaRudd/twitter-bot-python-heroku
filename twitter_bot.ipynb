{
 "cells": [
  {
   "cell_type": "code",
   "execution_count": 12,
   "metadata": {},
   "outputs": [],
   "source": [
    "import json\n",
    "import random\n",
    "import time\n",
    "import sys\n",
    "import tweepy\n",
    "import credentials\n",
    "import urllib.request\n",
    "from os import environ\n",
    "import gc"
   ]
  },
  {
   "cell_type": "code",
   "execution_count": 14,
   "metadata": {},
   "outputs": [
    {
     "ename": "AttributeError",
     "evalue": "module 'credentials' has no attribute 'ACCESS_SECRET'",
     "output_type": "error",
     "traceback": [
      "\u001b[0;31m---------------------------------------------------------------------------\u001b[0m",
      "\u001b[0;31mAttributeError\u001b[0m                            Traceback (most recent call last)",
      "\u001b[0;32m<ipython-input-14-04a01fd3247d>\u001b[0m in \u001b[0;36m<module>\u001b[0;34m\u001b[0m\n\u001b[1;32m      2\u001b[0m \u001b[0mCONSUMER_SECRET\u001b[0m \u001b[0;34m=\u001b[0m \u001b[0mcredentials\u001b[0m\u001b[0;34m.\u001b[0m\u001b[0mCONSUMER_SECRET\u001b[0m\u001b[0;34m\u001b[0m\u001b[0;34m\u001b[0m\u001b[0m\n\u001b[1;32m      3\u001b[0m \u001b[0mACCESS_KEY\u001b[0m \u001b[0;34m=\u001b[0m \u001b[0mcredentials\u001b[0m\u001b[0;34m.\u001b[0m\u001b[0mACCESS_KEY\u001b[0m\u001b[0;34m\u001b[0m\u001b[0;34m\u001b[0m\u001b[0m\n\u001b[0;32m----> 4\u001b[0;31m \u001b[0mACCESS_SECRET\u001b[0m \u001b[0;34m=\u001b[0m \u001b[0mcredentials\u001b[0m\u001b[0;34m.\u001b[0m\u001b[0mACCESS_SECRET\u001b[0m\u001b[0;34m\u001b[0m\u001b[0;34m\u001b[0m\u001b[0m\n\u001b[0m\u001b[1;32m      5\u001b[0m \u001b[0mFORECAST_APIKEY\u001b[0m \u001b[0;34m=\u001b[0m \u001b[0mcredentials\u001b[0m\u001b[0;34m.\u001b[0m\u001b[0mFORECAST_APIKEY\u001b[0m\u001b[0;34m\u001b[0m\u001b[0;34m\u001b[0m\u001b[0m\n",
      "\u001b[0;31mAttributeError\u001b[0m: module 'credentials' has no attribute 'ACCESS_SECRET'"
     ]
    }
   ],
   "source": [
    "CONSUMER_KEY = credentials.CONSUMER_KEY\n",
    "CONSUMER_SECRET = credentials.CONSUMER_SECRET \n",
    "ACCESS_KEY = credentials.ACCESS_KEY\n",
    "ACCESS_SECRET = credentials.ACCESS_SECRET\n",
    "FORECAST_APIKEY = credentials.FORECAST_APIKEY"
   ]
  },
  {
   "cell_type": "code",
   "execution_count": 6,
   "metadata": {},
   "outputs": [
    {
     "ename": "NameError",
     "evalue": "name 'ACCESS_KEY' is not defined",
     "output_type": "error",
     "traceback": [
      "\u001b[0;31m---------------------------------------------------------------------------\u001b[0m",
      "\u001b[0;31mNameError\u001b[0m                                 Traceback (most recent call last)",
      "\u001b[0;32m<ipython-input-6-9e8dc2487d11>\u001b[0m in \u001b[0;36m<module>\u001b[0;34m\u001b[0m\n\u001b[1;32m     48\u001b[0m \u001b[0;34m\u001b[0m\u001b[0m\n\u001b[1;32m     49\u001b[0m \u001b[0;32mif\u001b[0m \u001b[0m__name__\u001b[0m \u001b[0;34m==\u001b[0m \u001b[0;34m\"__main__\"\u001b[0m\u001b[0;34m:\u001b[0m\u001b[0;34m\u001b[0m\u001b[0;34m\u001b[0m\u001b[0m\n\u001b[0;32m---> 50\u001b[0;31m     \u001b[0mtweet_quote\u001b[0m\u001b[0;34m(\u001b[0m\u001b[0;34m)\u001b[0m\u001b[0;34m\u001b[0m\u001b[0;34m\u001b[0m\u001b[0m\n\u001b[0m\u001b[1;32m     51\u001b[0m \u001b[0;34m\u001b[0m\u001b[0m\n",
      "\u001b[0;32m<ipython-input-6-9e8dc2487d11>\u001b[0m in \u001b[0;36mtweet_quote\u001b[0;34m()\u001b[0m\n\u001b[1;32m     41\u001b[0m \u001b[0;32mdef\u001b[0m \u001b[0mtweet_quote\u001b[0m\u001b[0;34m(\u001b[0m\u001b[0;34m)\u001b[0m\u001b[0;34m:\u001b[0m\u001b[0;34m\u001b[0m\u001b[0;34m\u001b[0m\u001b[0m\n\u001b[1;32m     42\u001b[0m     \u001b[0mauth\u001b[0m \u001b[0;34m=\u001b[0m \u001b[0mtweepy\u001b[0m\u001b[0;34m.\u001b[0m\u001b[0mOAuthHandler\u001b[0m\u001b[0;34m(\u001b[0m\u001b[0mCONSUMER_KEY\u001b[0m\u001b[0;34m,\u001b[0m \u001b[0mCONSUMER_SECRET\u001b[0m\u001b[0;34m)\u001b[0m\u001b[0;34m\u001b[0m\u001b[0;34m\u001b[0m\u001b[0m\n\u001b[0;32m---> 43\u001b[0;31m     \u001b[0mauth\u001b[0m\u001b[0;34m.\u001b[0m\u001b[0mset_access_token\u001b[0m\u001b[0;34m(\u001b[0m\u001b[0mACCESS_KEY\u001b[0m\u001b[0;34m,\u001b[0m \u001b[0mACCESS_SECRET\u001b[0m\u001b[0;34m)\u001b[0m\u001b[0;34m\u001b[0m\u001b[0;34m\u001b[0m\u001b[0m\n\u001b[0m\u001b[1;32m     44\u001b[0m     \u001b[0mapi\u001b[0m \u001b[0;34m=\u001b[0m \u001b[0mtweepy\u001b[0m\u001b[0;34m.\u001b[0m\u001b[0mAPI\u001b[0m\u001b[0;34m(\u001b[0m\u001b[0mauth\u001b[0m\u001b[0;34m)\u001b[0m\u001b[0;34m\u001b[0m\u001b[0;34m\u001b[0m\u001b[0m\n\u001b[1;32m     45\u001b[0m     \u001b[0mtweet\u001b[0m \u001b[0;34m=\u001b[0m \u001b[0mcreate_tweet\u001b[0m\u001b[0;34m(\u001b[0m\u001b[0;34m)\u001b[0m\u001b[0;34m\u001b[0m\u001b[0;34m\u001b[0m\u001b[0m\n",
      "\u001b[0;31mNameError\u001b[0m: name 'ACCESS_KEY' is not defined"
     ]
    }
   ],
   "source": [
    "def get_quotes():\n",
    "    with open('quotes.json') as f:\n",
    "        quotes_json = json.load(f)\n",
    "    return quotes_json['quotes']\n",
    "\n",
    "def get_random_quote():\n",
    "    quotes = get_quotes()\n",
    "    random_quote = random.choice(quotes)\n",
    "    return random_quote\n",
    "\n",
    "def create_quote():\n",
    "    quote = get_random_quote()\n",
    "    quote = \"\"\"\n",
    "            {}\n",
    "            ~{}\n",
    "            \"\"\".format(quote['quote'], quote['author'])\n",
    "    return quote\n",
    "\n",
    "def get_weather():\n",
    "    req = urllib.request.Request(url=f'https://api.openweathermap.org/data/2.5/weather?q=Atlanta&units=imperial&appid='+FORECAST_APIKEY)\n",
    "\n",
    "    with urllib.request.urlopen(req) as resp:\n",
    "        data = json.loads(resp.read().decode(\"utf-8\"))\n",
    "        gc.collect()\n",
    "    return data\n",
    "\n",
    "def create_tweet():\n",
    "        \n",
    "    data=get_weather()\n",
    "    temperature = str(int(round(data['main']['temp'])))\n",
    "    degree_sign = u'\\N{DEGREE SIGN}'\n",
    "    description = data['weather'][0]['description']\n",
    "    #description = data['current']['weather'][0]['description']\n",
    "\n",
    "    tweet = \"Rise Up @ATLtrackclub ATL Runners! It's currently \" + temperature + degree_sign + \"F and \" + str(description) +\". Time for a run!\" + create_quote()+\"\\n #morningmotivation #running #atlanta #atlantatrackclub\"\n",
    "    if len(tweet) > 280:\n",
    "        tweet = \"Rise Up @ATLtrackclub ATL Runners! It's currently \" + temperature + degree_sign + \"F and \" + str(description)+\". Time for a run! \\n #morningmotivation #running #atlanta #atlantatrackclub #runningcommunity #atlantarunners\"\n",
    "    \n",
    "    return tweet\n",
    " \n",
    "def tweet_quote():\n",
    "    auth = tweepy.OAuthHandler(CONSUMER_KEY, CONSUMER_SECRET)\n",
    "    auth.set_access_token(ACCESS_KEY, ACCESS_SECRET)\n",
    "    api = tweepy.API(auth)\n",
    "    tweet = create_tweet()\n",
    "    status = api.update_status(tweet)\n",
    "    print(status.id)\n",
    "    \n",
    "if __name__ == \"__main__\":\n",
    "    tweet_quote()\n",
    "\n"
   ]
  },
  {
   "cell_type": "code",
   "execution_count": null,
   "metadata": {},
   "outputs": [],
   "source": []
  }
 ],
 "metadata": {
  "kernelspec": {
   "display_name": "Python 3",
   "language": "python",
   "name": "python3"
  },
  "language_info": {
   "codemirror_mode": {
    "name": "ipython",
    "version": 3
   },
   "file_extension": ".py",
   "mimetype": "text/x-python",
   "name": "python",
   "nbconvert_exporter": "python",
   "pygments_lexer": "ipython3",
   "version": "3.8.3"
  }
 },
 "nbformat": 4,
 "nbformat_minor": 4
}
