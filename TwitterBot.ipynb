{
 "cells": [
  {
   "cell_type": "code",
   "execution_count": 130,
   "metadata": {},
   "outputs": [],
   "source": [
    "import json\n",
    "import random\n",
    "import time\n",
    "import sys\n",
    "import tweepy\n",
    "import credentials\n",
    "import urllib.request\n",
    "from os import environ"
   ]
  },
  {
   "cell_type": "code",
   "execution_count": 133,
   "metadata": {},
   "outputs": [],
   "source": [
    "# consumer_key = environ['API_KEY']\n",
    "# consumer_secret_key = environ['API_SECRET_KEY']\n",
    "# access_token = environ['ACCESS_TOKEN']\n",
    "# access_token_secret = environ['ACCESS_TOKEN_SECRET']\n",
    "# FORECAST_APIKEY = environ['FORECAST_APIKEY']\n",
    "# LATITUDE = 33.748997\n",
    "# LONGITUDE = -84.387985\n"
   ]
  },
  {
   "cell_type": "code",
   "execution_count": 145,
   "metadata": {},
   "outputs": [],
   "source": [
    "consumer_key = credentials.API_KEY\n",
    "consumer_secret_key = credentials.API_SECRET_KEY\n",
    "access_token = credentials.ACCESS_TOKEN\n",
    "access_token_secret = credentials.ACCESS_TOKEN_SECRET\n",
    "FORECAST_APIKEY = credentials.FORECAST_APIKEY\n",
    "LATITUDE = 33.748997\n",
    "LONGITUDE = -84.387985"
   ]
  },
  {
   "cell_type": "code",
   "execution_count": 146,
   "metadata": {},
   "outputs": [],
   "source": [
    "def get_quotes():\n",
    "    with open('quotes.json') as f:\n",
    "        quotes_json = json.load(f)\n",
    "    return quotes_json['quotes']\n",
    "\n",
    "def get_random_quote():\n",
    "    quotes = get_quotes()\n",
    "    random_quote = random.choice(quotes)\n",
    "    return random_quote\n",
    "\n",
    "def create_quote():\n",
    "    quote = get_random_quote()\n",
    "    tweet = \"\"\"\n",
    "            {}\n",
    "            ~{}\n",
    "            \"\"\".format(quote['quote'], quote['author'])\n",
    "    return quote\n",
    "\n",
    "\n",
    "def create_tweet():\n",
    "    \n",
    "    url = 'https://api.openweathermap.org/data/2.5/onecall?lat='+str(LATITUDE)+'&lon='+str(LONGITUDE)+'&units=imperial&exclude=minutely,hourly,daily,alerts&appid='+FORECAST_APIKEY\n",
    "    response = urllib.request.urlopen(url);\n",
    "    data = json.loads(response.read())\n",
    "\n",
    "    # print json.dumps(data, sort_keys=True, indent=4)\n",
    "\n",
    "    temperature = str(int(round(data['current']['temp'])))\n",
    "    degree_sign = u'\\N{DEGREE SIGN}'\n",
    "    weather_list =data['current']['weather']\n",
    "\n",
    "    description = data['current']['weather'][0]['description']\n",
    "    \n",
    "    tweet = \"Rise Up ATL Runners! It's currently \" + temperature + degree_sign + \"F and \" + str(description) +\". Time for a run!\" + create_tweet()\n",
    "\n",
    "    if len(tweet) > 280:\n",
    "        tweet = \"Rise Up ATL Runners! It's currently \" + temperature + degree_sign + \"F and \" + str(description)+\". Time for a run!\"\n",
    "\n",
    "    return tweet"
   ]
  },
  {
   "cell_type": "code",
   "execution_count": 143,
   "metadata": {},
   "outputs": [],
   "source": [
    "url = 'https://api.openweathermap.org/data/2.5/onecall?lat='+str(LATITUDE)+'&lon='+str(LONGITUDE)+'&units=imperial&exclude=minutely,hourly,daily,alerts&appid='+FORECAST_APIKEY\n",
    "response = urllib.request.urlopen(url);\n",
    "data = json.loads(response.read())\n",
    "\n",
    "# print json.dumps(data, sort_keys=True, indent=4)\n",
    "\n",
    "temperature = str(int(round(data['current']['temp'])))\n",
    "degree_sign = u'\\N{DEGREE SIGN}'\n",
    "weather_list =data['current']['weather']\n",
    "\n",
    "description = data['current']['weather'][0]['description']\n",
    "\n",
    "tweet = \"Rise Up ATL Runners! It's currently \" + temperature + degree_sign + \"F and \" + str(description) +\". Time for a run!\" + create_tweet()\n",
    "\n",
    "if len(tweet) > 280:\n",
    "    tweet = \"Rise Up ATL Runners! It's currently \" + temperature + degree_sign + \"F and \" + str(description)+\". Time for a run!\"\n"
   ]
  },
  {
   "cell_type": "code",
   "execution_count": 144,
   "metadata": {},
   "outputs": [
    {
     "data": {
      "text/plain": [
       "\"Rise Up ATL Runners! It's currently 44°F and clear sky. Time for a run!\\n            How wonderful it is that nobody need wait a single moment before starting to improve the world.\\n            ~Anne Frank\\n            \""
      ]
     },
     "execution_count": 144,
     "metadata": {},
     "output_type": "execute_result"
    }
   ],
   "source": [
    "tweet"
   ]
  },
  {
   "cell_type": "code",
   "execution_count": null,
   "metadata": {},
   "outputs": [],
   "source": [
    "def tweet_quote():\n",
    "    auth = tweepy.OAuthHandler(consumer_key, consumer_secret_key)\n",
    "    auth.set_access_token(access_token, access_token_secret)\n",
    "    api = tweepy.API(auth)\n",
    "    test_tweet = create_tweet()\n",
    "    api.update_status(test_tweet)\n",
    "if __name__ == \"__main__\":\n",
    "    tweet_quote()"
   ]
  },
  {
   "cell_type": "code",
   "execution_count": null,
   "metadata": {},
   "outputs": [],
   "source": [
    "auth = tweepy.OAuthHandler(CONSUMER_KEY, CONSUMER_SECRET)\n",
    "auth.set_access_token(ACCESS_KEY, ACCESS_SECRET)\n"
   ]
  }
 ],
 "metadata": {
  "kernelspec": {
   "display_name": "Python 3",
   "language": "python",
   "name": "python3"
  },
  "language_info": {
   "codemirror_mode": {
    "name": "ipython",
    "version": 3
   },
   "file_extension": ".py",
   "mimetype": "text/x-python",
   "name": "python",
   "nbconvert_exporter": "python",
   "pygments_lexer": "ipython3",
   "version": "3.8.3"
  }
 },
 "nbformat": 4,
 "nbformat_minor": 4
}
