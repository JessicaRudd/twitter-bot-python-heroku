{
 "cells": [
  {
   "cell_type": "code",
   "execution_count": 1,
   "metadata": {},
   "outputs": [],
   "source": [
    "import json\n",
    "import random\n",
    "import time\n",
    "import sys\n",
    "import tweepy\n",
    "import credentials\n",
    "import urllib.request\n",
    "from os import environ\n",
    "import gc"
   ]
  },
  {
   "cell_type": "code",
   "execution_count": 2,
   "metadata": {},
   "outputs": [],
   "source": [
    "CONSUMER_KEY = credentials.CONSUMER_KEY\n",
    "CONSUMER_SECRET = credentials.CONSUMER_SECRET \n",
    "ACCESS_TOKEN = credentials.ACCESS_TOKEN\n",
    "ACCESS_TOKEN_SECRET = credentials.ACCESS_TOKEN_SECRET\n",
    "FORECAST_APIKEY = credentials.FORECAST_APIKEY"
   ]
  },
  {
   "cell_type": "code",
   "execution_count": 9,
   "metadata": {},
   "outputs": [
    {
     "name": "stdout",
     "output_type": "stream",
     "text": [
      "1341860391366889472\n"
     ]
    }
   ],
   "source": [
    "def get_quotes():\n",
    "    with open('quotes.json') as f:\n",
    "        quotes_json = json.load(f)\n",
    "    return quotes_json['quotes']\n",
    "\n",
    "def get_random_quote():\n",
    "    quotes = get_quotes()\n",
    "    random_quote = random.choice(quotes)\n",
    "    return random_quote\n",
    "\n",
    "def create_quote():\n",
    "    quote = get_random_quote()\n",
    "    quote = \"\"\"\n",
    "            {}\n",
    "            ~{}\n",
    "            \"\"\".format(quote['quote'], quote['author'])\n",
    "    return quote\n",
    "\n",
    "def get_weather():\n",
    "    req = urllib.request.Request(url=f'https://api.openweathermap.org/data/2.5/weather?q=Atlanta&units=imperial&appid='+FORECAST_APIKEY)\n",
    "\n",
    "    with urllib.request.urlopen(req) as resp:\n",
    "        data = json.loads(resp.read().decode(\"utf-8\"))\n",
    "        gc.collect()\n",
    "    return data\n",
    "\n",
    "def create_tweet():\n",
    "        \n",
    "    data=get_weather()\n",
    "    temperature = str(int(round(data['main']['temp'])))\n",
    "    degree_sign = u'\\N{DEGREE SIGN}'\n",
    "    description = data['weather'][0]['description']\n",
    "    #description = data['current']['weather'][0]['description']\n",
    "\n",
    "    tweet = \"Rise Up @ATLtrackclub ATL Runners! It's currently \" + temperature + degree_sign + \"F and \" + str(description) +\". Time for a run!\" + create_quote()+\"\\n #morningmotivation #running #atlanta #atlantatrackclub\"\n",
    "    if len(tweet) > 280:\n",
    "        tweet = \"Rise Up @ATLtrackclub ATL Runners! It's currently \" + temperature + degree_sign + \"F and \" + str(description)+\". Time for a run! \\n #morningmotivation #running #atlanta #atlantatrackclub #runningcommunity #atlantarunners\"\n",
    "    \n",
    "    return tweet\n",
    " \n",
    "def tweet_quote():\n",
    "    auth = tweepy.OAuthHandler(CONSUMER_KEY, CONSUMER_SECRET)\n",
    "    auth.set_access_token(ACCESS_TOKEN, ACCESS_TOKEN_SECRET)\n",
    "    api = tweepy.API(auth)\n",
    "    tweet = create_tweet()\n",
    "    status = api.update_status(tweet)\n",
    "    print(status.id)\n",
    "    \n",
    "if __name__ == \"__main__\":\n",
    "    tweet_quote()\n",
    "\n"
   ]
  },
  {
   "cell_type": "code",
   "execution_count": null,
   "metadata": {},
   "outputs": [],
   "source": []
  }
 ],
 "metadata": {
  "kernelspec": {
   "display_name": "Python 3",
   "language": "python",
   "name": "python3"
  },
  "language_info": {
   "codemirror_mode": {
    "name": "ipython",
    "version": 3
   },
   "file_extension": ".py",
   "mimetype": "text/x-python",
   "name": "python",
   "nbconvert_exporter": "python",
   "pygments_lexer": "ipython3",
   "version": "3.8.3"
  }
 },
 "nbformat": 4,
 "nbformat_minor": 4
}
